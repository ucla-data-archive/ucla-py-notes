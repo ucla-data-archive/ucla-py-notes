{
 "cells": [
  {
   "cell_type": "code",
   "execution_count": 1,
   "metadata": {},
   "outputs": [
    {
     "data": {
      "text/plain": [
       "13"
      ]
     },
     "execution_count": 1,
     "metadata": {},
     "output_type": "execute_result"
    }
   ],
   "source": [
    "3 + 2 * 5 # using Python as a calculator"
   ]
  },
  {
   "cell_type": "code",
   "execution_count": 2,
   "metadata": {},
   "outputs": [
    {
     "name": "stdout",
     "output_type": "stream",
     "text": [
      "60\n"
     ]
    }
   ],
   "source": [
    "weight_kg = 60 # assigning a value to a variable\n",
    "print(weight_kg)"
   ]
  },
  {
   "cell_type": "code",
   "execution_count": 4,
   "metadata": {},
   "outputs": [
    {
     "name": "stdout",
     "output_type": "stream",
     "text": [
      "weight in pounds: 132.0\n"
     ]
    }
   ],
   "source": [
    "print(\"weight in pounds:\", weight_kg * 2.2) # printing"
   ]
  },
  {
   "cell_type": "code",
   "execution_count": 5,
   "metadata": {},
   "outputs": [
    {
     "name": "stdout",
     "output_type": "stream",
     "text": [
      "weight in pounds: 143.0\n"
     ]
    }
   ],
   "source": [
    "weight_kg = 65 # re-assigning a variable\n",
    "print(\"weight in pounds:\", weight_kg * 2.2)"
   ]
  },
  {
   "cell_type": "code",
   "execution_count": 6,
   "metadata": {},
   "outputs": [
    {
     "name": "stdout",
     "output_type": "stream",
     "text": [
      "var_1 is: Grace\n",
      "var_2 is: Hopper\n"
     ]
    }
   ],
   "source": [
    "var_1, var_2 = \"Grace\", \"Hopper\" # multiple assignment\n",
    "print(\"var_1 is:\", var_1)\n",
    "print(\"var_2 is:\", var_2)"
   ]
  },
  {
   "cell_type": "code",
   "execution_count": 10,
   "metadata": {},
   "outputs": [
    {
     "name": "stdout",
     "output_type": "stream",
     "text": [
      "[[0. 0. 1. ... 3. 0. 0.]\n",
      " [0. 1. 2. ... 1. 0. 1.]\n",
      " [0. 1. 1. ... 2. 1. 1.]\n",
      " ...\n",
      " [0. 1. 1. ... 1. 1. 1.]\n",
      " [0. 0. 0. ... 0. 2. 0.]\n",
      " [0. 0. 1. ... 1. 1. 0.]]\n"
     ]
    }
   ],
   "source": [
    "import numpy # loading data with numpy\n",
    "our_data = numpy.loadtxt(fname=\"data/inflammation-01.csv\", delimiter=\",\")\n",
    "print(our_data)"
   ]
  },
  {
   "cell_type": "code",
   "execution_count": 12,
   "metadata": {},
   "outputs": [
    {
     "name": "stdout",
     "output_type": "stream",
     "text": [
      "<class 'numpy.ndarray'>\n",
      "float64\n"
     ]
    }
   ],
   "source": [
    "print(type(our_data)) # type (Python) vs .dtype (numpy)\n",
    "print(our_data.dtype)"
   ]
  },
  {
   "cell_type": "code",
   "execution_count": 13,
   "metadata": {},
   "outputs": [
    {
     "name": "stdout",
     "output_type": "stream",
     "text": [
      "(60, 40)\n"
     ]
    }
   ],
   "source": [
    "print(our_data.shape)"
   ]
  },
  {
   "cell_type": "code",
   "execution_count": 16,
   "metadata": {},
   "outputs": [
    {
     "name": "stdout",
     "output_type": "stream",
     "text": [
      "0.0 13.0\n"
     ]
    }
   ],
   "source": [
    "first_value = our_data[0, 0] # numpy array indexing\n",
    "another_value = our_data[30, 20]\n",
    "print(first_value, another_value)"
   ]
  },
  {
   "cell_type": "code",
   "execution_count": 17,
   "metadata": {},
   "outputs": [
    {
     "name": "stdout",
     "output_type": "stream",
     "text": [
      "[[0. 0. 1. 3. 1. 2. 4. 7. 8. 3.]\n",
      " [0. 1. 2. 1. 2. 1. 3. 2. 2. 6.]\n",
      " [0. 1. 1. 3. 3. 2. 6. 2. 5. 9.]\n",
      " [0. 0. 2. 0. 4. 2. 2. 1. 6. 7.]]\n"
     ]
    }
   ],
   "source": [
    "print(our_data[0:4, 0:10]) # numpy array slicing"
   ]
  },
  {
   "cell_type": "code",
   "execution_count": 20,
   "metadata": {},
   "outputs": [
    {
     "name": "stdout",
     "output_type": "stream",
     "text": [
      "[[0. 0. 1. 3. 1. 2. 4. 7. 8. 3.]\n",
      " [0. 1. 2. 1. 2. 1. 3. 2. 2. 6.]\n",
      " [0. 1. 1. 3. 3. 2. 6. 2. 5. 9.]\n",
      " [0. 0. 2. 0. 4. 2. 2. 1. 6. 7.]]\n",
      "[[ 7.  9.  3.  3.  6.  3.  4.  1.  2.  0.]\n",
      " [ 8.  5.  4.  1.  3.  2.  1.  3.  1.  0.]\n",
      " [10.  8.  7.  5.  2.  2.  4.  1.  2.  1.]\n",
      " [ 7.  6.  5.  4.  1.  4.  2.  2.  2.  1.]\n",
      " [ 4.  5.  5.  2.  2.  5.  1.  0.  0.  1.]\n",
      " [ 3.  5.  3.  5.  4.  5.  3.  3.  0.  1.]\n",
      " [ 7.  7.  5.  6.  3.  4.  2.  2.  1.  1.]\n",
      " [ 8.  6.  6.  4.  3.  5.  2.  1.  1.  1.]\n",
      " [10.  8.  8.  6.  5.  5.  2.  0.  2.  0.]\n",
      " [ 8.  5.  3.  5.  4.  1.  3.  1.  1.  0.]]\n"
     ]
    }
   ],
   "source": [
    "print(our_data[:4, :10]) # more numpy array slicing\n",
    "print(our_data[50:, 30:])"
   ]
  },
  {
   "cell_type": "code",
   "execution_count": 25,
   "metadata": {},
   "outputs": [
    {
     "name": "stdout",
     "output_type": "stream",
     "text": [
      "6.14875\n",
      "5.45\n"
     ]
    }
   ],
   "source": [
    "print(numpy.mean(our_data)) # all patients, all days\n",
    "print(numpy.mean(our_data[0])) # patient 1, all days"
   ]
  },
  {
   "cell_type": "code",
   "execution_count": 26,
   "metadata": {},
   "outputs": [
    {
     "name": "stdout",
     "output_type": "stream",
     "text": [
      "(60, 40) (40,)\n"
     ]
    }
   ],
   "source": [
    "print(our_data.shape, our_data[0].shape) # 2D array vs. 1D array"
   ]
  },
  {
   "cell_type": "code",
   "execution_count": 22,
   "metadata": {},
   "outputs": [
    {
     "name": "stdout",
     "output_type": "stream",
     "text": [
      "Thu Jan 23 15:13:40 2020\n"
     ]
    }
   ],
   "source": [
    "import time\n",
    "print(time.ctime()) # getting the current system time"
   ]
  },
  {
   "cell_type": "code",
   "execution_count": 23,
   "metadata": {},
   "outputs": [],
   "source": [
    "# more multiple assignment\n",
    "maxval, minval, stdval = numpy.max(our_data), numpy.min(our_data), numpy.std(our_data)"
   ]
  }
 ],
 "metadata": {
  "kernelspec": {
   "display_name": "Python 3",
   "language": "python",
   "name": "python3"
  },
  "language_info": {
   "codemirror_mode": {
    "name": "ipython",
    "version": 3
   },
   "file_extension": ".py",
   "mimetype": "text/x-python",
   "name": "python",
   "nbconvert_exporter": "python",
   "pygments_lexer": "ipython3",
   "version": "3.7.6"
  }
 },
 "nbformat": 4,
 "nbformat_minor": 4
}
